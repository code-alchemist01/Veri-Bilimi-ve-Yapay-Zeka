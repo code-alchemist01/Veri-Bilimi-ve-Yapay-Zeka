{
 "cells": [
  {
   "cell_type": "markdown",
   "metadata": {},
   "source": [
    "# Veri Manipülasyonu"
   ]
  },
  {
   "cell_type": "markdown",
   "metadata": {},
   "source": [
    "Veri manipülasyonu, verilerin işlenmesi, düzenlenmesi ve analizi sürecini ifade eder. Bu süreç, verileri daha kullanışlı hale getirmek için çeşitli yöntemler ve teknikler kullanarak veri setlerini dönüştürmeyi içerir. Veri manipülasyonu genellikle aşağıdaki adımları içerir:\n",
    "\n",
    "### 1. Veri Toplama\n",
    "Veri manipülasyon süreci, verilerin toplanması ile başlar. Bu veriler çeşitli kaynaklardan gelebilir, örneğin:\n",
    "\n",
    "- Veritabanları\n",
    "\n",
    "- Dosyalar (CSV, Excel, vb.)\n",
    "\n",
    "- API’ler\n",
    "\n",
    "### 2. Veri Temizleme\n",
    "Veriler genellikle eksik, hatalı veya tutarsız olabilir. Veri temizleme aşaması, bu tür sorunları giderme amacıyla:\n",
    "\n",
    "- Eksik verilerin doldurulması\n",
    "\n",
    "- Hatalı verilerin düzeltilmesi\n",
    "\n",
    "- Tutarsızlıkların giderilmesi\n",
    "\n",
    "### 3. Veri Dönüştürme\n",
    "Verilerin daha kullanışlı hale gelmesi için dönüştürülmesi gerekebilir. Bu aşama, aşağıdaki işlemleri içerebilir:\n",
    "\n",
    "- Veri türlerinin değiştirilmesi (örneğin, string’i sayıya dönüştürme)\n",
    "\n",
    "- Verilerin normalleştirilmesi veya standartlaştırılması\n",
    "\n",
    "- Yeni değişkenler oluşturma\n",
    "\n",
    "### 4. Veri Analizi\n",
    "Veri analizi aşamasında, veriler üzerinde çeşitli hesaplamalar yapılır. Bu adımda:\n",
    "\n",
    "- İstatistiksel analizler\n",
    "\n",
    "- Gruplama, filtreleme ve özetleme işlemleri\n",
    "\n",
    "- Görselleştirme (grafikler, tablolar)\n",
    "\n",
    "### 5. Veri Görselleştirme\n",
    "Veri manipülasyonu sürecinin sonunda elde edilen veriler, daha iyi anlaşılması için görselleştirilir. Bu aşama:\n",
    "\n",
    "- Grafikler\n",
    "\n",
    "- Tablolar\n",
    "\n",
    "- Haritalar gibi görselleştirme araçları kullanılarak yapılır.\n",
    "\n",
    "### 6. Veri Raporlama\n",
    "Son olarak, elde edilen sonuçlar genellikle raporlanır veya sunulur. Bu aşama, verilerin anlamlı bir şekilde sunulmasını sağlar."
   ]
  },
  {
   "cell_type": "markdown",
   "metadata": {},
   "source": [
    "# NumPy\n",
    "NumPy, özellikle büyük ve çok boyutlu diziler üzerinde hızlı ve verimli hesaplamalar yapmak için kullanılır. Aşağıdaki özellikleri vardır:\n",
    "\n",
    "> N-D Diziler: NumPy, N boyutlu diziler oluşturmayı ve işlemeyi kolaylaştırır.\n",
    "\n",
    "> Hız: C dilinde yazılmış olması sayesinde yüksek performans sunar.\n",
    "\n",
    "> Matematiksel Fonksiyonlar: Lineer cebir, istatistik gibi matematiksel işlemler için birçok yerleşik fonksiyon sunar."
   ]
  },
  {
   "cell_type": "markdown",
   "metadata": {},
   "source": [
    "# Pandas\n",
    "Pandas, özellikle veri analizi ve manipülasyonu için geliştirilmiş bir kütüphanedir. Veri çerçeveleri (DataFrame) ve seriler (Series) gibi yapılar sunar. Aşağıdaki özellikleri vardır:\n",
    "\n",
    "> Veri Çerçeveleri: Tablo biçiminde veri tutma ve işleme yeteneği.\n",
    "\n",
    "> Veri Temizleme: Eksik verilerle çalışma, veri filtreleme, grup işlemleri gibi işlemleri kolaylaştırır.\n",
    "\n",
    "> Zaman Serisi: Tarih ve zaman verileriyle çalışma yeteneği."
   ]
  },
  {
   "cell_type": "markdown",
   "metadata": {},
   "source": [
    "## Numpy Giriş"
   ]
  },
  {
   "cell_type": "markdown",
   "metadata": {},
   "source": [
    "- Numerical Python\n",
    "\n",
    "- Bilimsel hesaplamalarda kullanılır\n",
    "\n",
    "- Arrayler ve matrisler üzerinde yüksek performanslı çalışma imkanı sağlar\n",
    "\n",
    "- Listelere benzerdir listelerde farkı verimli veri saklama ve vektörel operasyonlardır"
   ]
  },
  {
   "cell_type": "markdown",
   "metadata": {},
   "source": [
    "- Normal veri tutumlarında her üye bir bilgi iken numpy kullanımında tüm tutum tek bir bilgi olarak nitelenir. Verimi arttırmayı sağlar"
   ]
  },
  {
   "cell_type": "markdown",
   "metadata": {},
   "source": [
    "![alt text](<Ekran görüntüsü 2024-10-26 024630.png>)"
   ]
  },
  {
   "cell_type": "markdown",
   "metadata": {},
   "source": [
    "# Neden Numpy Kullanmalıyız?"
   ]
  },
  {
   "cell_type": "markdown",
   "metadata": {},
   "source": [
    "NumPy, hızlı, bellek verimli ve güçlü matematiksel işlemler yapmanızı sağlayan bir araçtır. Veri analizi, bilimsel hesaplamalar ve makine öğrenimi gibi alanlarda sıkça kullanılır. Bu nedenle, veri bilimi veya mühendislik ile ilgileniyorsanız NumPy öğrenmek ve kullanmak büyük bir avantaj sağlar."
   ]
  },
  {
   "cell_type": "code",
   "execution_count": 3,
   "metadata": {},
   "outputs": [],
   "source": [
    "a = [1,2,3,4]\n",
    "b = [2,3,4,5]"
   ]
  },
  {
   "cell_type": "code",
   "execution_count": 4,
   "metadata": {},
   "outputs": [
    {
     "data": {
      "text/plain": [
       "[2, 6, 12, 20]"
      ]
     },
     "execution_count": 4,
     "metadata": {},
     "output_type": "execute_result"
    }
   ],
   "source": [
    "ab = []\n",
    "\n",
    "for i in range(0,len(a)):\n",
    "    ab.append(a[i] * b[i])\n",
    "\n",
    "ab"
   ]
  },
  {
   "cell_type": "code",
   "execution_count": 7,
   "metadata": {},
   "outputs": [],
   "source": [
    "import numpy as np  # komut istemi üzerinden pip3 install numpy komutu ile numpy ı indirebiliriz"
   ]
  },
  {
   "cell_type": "code",
   "execution_count": 8,
   "metadata": {},
   "outputs": [],
   "source": [
    "a = np.array([1,2,3,4]) # numpy üzerinden bir array oluşturmamızı sağlar\n",
    "b = np.array([2,3,4,5])\n"
   ]
  },
  {
   "cell_type": "code",
   "execution_count": 10,
   "metadata": {},
   "outputs": [
    {
     "data": {
      "text/plain": [
       "array([ 2,  6, 12, 20])"
      ]
     },
     "execution_count": 10,
     "metadata": {},
     "output_type": "execute_result"
    }
   ],
   "source": [
    "a * b  # az önce for ile yaptığımız işlem sadece bu kadar küçük bir işlemle sonuçlanıyor"
   ]
  },
  {
   "cell_type": "code",
   "execution_count": null,
   "metadata": {},
   "outputs": [],
   "source": []
  }
 ],
 "metadata": {
  "kernelspec": {
   "display_name": "Python 3",
   "language": "python",
   "name": "python3"
  },
  "language_info": {
   "codemirror_mode": {
    "name": "ipython",
    "version": 3
   },
   "file_extension": ".py",
   "mimetype": "text/x-python",
   "name": "python",
   "nbconvert_exporter": "python",
   "pygments_lexer": "ipython3",
   "version": "3.11.9"
  }
 },
 "nbformat": 4,
 "nbformat_minor": 2
}
