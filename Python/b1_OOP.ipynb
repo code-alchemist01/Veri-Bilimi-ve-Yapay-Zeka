{
 "cells": [
  {
   "cell_type": "markdown",
   "metadata": {},
   "source": [
    "# OOP - OBJECT ORIENTED PROGRAMMING"
   ]
  },
  {
   "cell_type": "markdown",
   "metadata": {},
   "source": [
    "Nesne tabanlı programlama (NTP), yazılım geliştirmede devrim niteliğinde bir yaklaşım olarak, gerçek dünya nesnelerini modelleme yeteneği ile dikkat çeker. Bu paradigma, yazılımın daha modüler, anlaşılır ve sürdürülebilir olmasını sağlar. Temel yapı taşları nesneler ve sınıflardır. Nesneler, veri ve bu veriye ait işlevleri bir arada tutarak, programın temel bileşenlerini oluşturur. Sınıflar ise benzer nesnelerin özelliklerini ve davranışlarını tanımlayan şablonlar olarak işlev görür.\n",
    "\n",
    "NTP, aynı zamanda kalıtım ve polimorfizm gibi kavramlarla zenginleşir. Kalıtım, bir sınıfın başka bir sınıftan özellikleri miras alarak kod tekrarını azaltmasını sağlar, bu da yazılım geliştirmeyi daha hızlı hale getirir. Polimorfizm ise, farklı nesnelerin aynı isimdeki metotları farklı şekillerde uygulayabilmesini mümkün kılar, bu da programın esnekliğini artırır. Ayrıca, kapsülleme sayesinde nesnelerin iç yapısı gizlenir; bu, veri güvenliğini artırır ve bakım sürecini kolaylaştırır."
   ]
  },
  {
   "cell_type": "code",
   "execution_count": 2,
   "metadata": {},
   "outputs": [],
   "source": [
    "class kutay():  # sınıf tanımlaması\n",
    "    pass # classın içini doldurmayacağımız zamanlarda pass ibaresini kullanıp boş bırakabilir"
   ]
  },
  {
   "cell_type": "code",
   "execution_count": 5,
   "metadata": {},
   "outputs": [
    {
     "data": {
      "text/plain": [
       "'05337655454'"
      ]
     },
     "execution_count": 5,
     "metadata": {},
     "output_type": "execute_result"
    }
   ],
   "source": [
    "class kutay():\n",
    "    dogdugu_yer = \"ordu\"\n",
    "    tel_no = \"05337655454\"\n",
    "    soy_adi = \"Şahin\"\n",
    "    bildigi_Diller = [\"Python\",\"C++\",\"C\",\"Java\",\"Dart\",\"....\"]\n",
    "\n",
    "\n",
    "kutay.dogdugu_yer\n"
   ]
  },
  {
   "cell_type": "code",
   "execution_count": 9,
   "metadata": {},
   "outputs": [
    {
     "data": {
      "text/plain": [
       "'05337655454'"
      ]
     },
     "execution_count": 9,
     "metadata": {},
     "output_type": "execute_result"
    }
   ],
   "source": [
    "kutay.tel_no"
   ]
  },
  {
   "cell_type": "code",
   "execution_count": 10,
   "metadata": {},
   "outputs": [
    {
     "data": {
      "text/plain": [
       "'Şahin'"
      ]
     },
     "execution_count": 10,
     "metadata": {},
     "output_type": "execute_result"
    }
   ],
   "source": [
    "kutay.soy_adi"
   ]
  },
  {
   "cell_type": "code",
   "execution_count": 11,
   "metadata": {},
   "outputs": [
    {
     "data": {
      "text/plain": [
       "['Python', 'C++', 'C', 'Java', 'Dart', '....']"
      ]
     },
     "execution_count": 11,
     "metadata": {},
     "output_type": "execute_result"
    }
   ],
   "source": [
    "kutay.bildigi_Diller"
   ]
  },
  {
   "cell_type": "code",
   "execution_count": 12,
   "metadata": {},
   "outputs": [
    {
     "data": {
      "text/plain": [
       "'C++'"
      ]
     },
     "execution_count": 12,
     "metadata": {},
     "output_type": "execute_result"
    }
   ],
   "source": [
    "kutay.bildigi_Diller[1]"
   ]
  },
  {
   "cell_type": "code",
   "execution_count": 13,
   "metadata": {},
   "outputs": [
    {
     "data": {
      "text/plain": [
       "'6746737375'"
      ]
     },
     "execution_count": 13,
     "metadata": {},
     "output_type": "execute_result"
    }
   ],
   "source": [
    "kutay.tel_no = \"6746737375\"\n",
    "kutay.tel_no"
   ]
  },
  {
   "cell_type": "code",
   "execution_count": 16,
   "metadata": {},
   "outputs": [
    {
     "data": {
      "text/plain": [
       "'ordu'"
      ]
     },
     "execution_count": 16,
     "metadata": {},
     "output_type": "execute_result"
    }
   ],
   "source": [
    "# Sınıftan Nesne oluşturma\n",
    "\n",
    "a = kutay()\n",
    "a.dogdugu_yer"
   ]
  },
  {
   "cell_type": "code",
   "execution_count": 24,
   "metadata": {},
   "outputs": [
    {
     "data": {
      "text/plain": [
       "['Python', 'C++', 'C', 'Java', 'Dart', '....', 'Go']"
      ]
     },
     "execution_count": 24,
     "metadata": {},
     "output_type": "execute_result"
    }
   ],
   "source": [
    "a.bildigi_Diller.append(\"Go\")\n",
    "a.bildigi_Diller"
   ]
  },
  {
   "cell_type": "code",
   "execution_count": 36,
   "metadata": {},
   "outputs": [],
   "source": [
    "# Nesne özellikleri\n",
    "\n",
    "class kutay:\n",
    "    def __init__(self): # __init__ metodu, Python'daki sınıfların (class) bir örneği (instance) oluşturulduğunda otomatik olarak çağrılan bir yapılandırıcı (constructor) metodudur. \n",
    "                        # Bu metod, sınıfın özelliklerini başlatmak için kullanılır. Yani, bir nesne yaratıldığında, o nesneye özel başlangıç değerlerini atamak için kullanılır.\n",
    "        self.bildigi_Diller = []\n",
    "\n",
    "ali = kutay()\n",
    "ali.bildigi_Diller.append(\"Python\")\n",
    "\n",
    "veli = kutay()\n",
    "veli.bildigi_Diller.append(\"Java\")"
   ]
  },
  {
   "cell_type": "code",
   "execution_count": 38,
   "metadata": {},
   "outputs": [
    {
     "data": {
      "text/plain": [
       "['Python']"
      ]
     },
     "execution_count": 38,
     "metadata": {},
     "output_type": "execute_result"
    }
   ],
   "source": [
    "ali.bildigi_Diller"
   ]
  },
  {
   "cell_type": "code",
   "execution_count": 39,
   "metadata": {},
   "outputs": [
    {
     "data": {
      "text/plain": [
       "['Java']"
      ]
     },
     "execution_count": 39,
     "metadata": {},
     "output_type": "execute_result"
    }
   ],
   "source": [
    "veli.bildigi_Diller"
   ]
  },
  {
   "cell_type": "code",
   "execution_count": 40,
   "metadata": {},
   "outputs": [
    {
     "data": {
      "text/plain": [
       "''"
      ]
     },
     "execution_count": 40,
     "metadata": {},
     "output_type": "execute_result"
    }
   ],
   "source": [
    "# Nesne Metodları\n",
    "\n",
    "class kutay:\n",
    "    calisanlar = []\n",
    "    def __init__(self): \n",
    "        self.bildigi_Diller = []\n",
    "        self.bolum = \"\"\n",
    "\n",
    "    def dil_ekle(self,yeni_dil):\n",
    "        self.bildigi_Diller.append(yeni_dil)\n",
    "\n",
    "ali = kutay()\n",
    "ali.bildigi_Diller\n",
    "ali.bolum\n",
    "\n",
    "veli = kutay()\n",
    "veli.bildigi_Diller\n",
    "veli.bolum"
   ]
  },
  {
   "cell_type": "code",
   "execution_count": 43,
   "metadata": {},
   "outputs": [],
   "source": [
    "ali.dil_ekle(\"Python\")\n",
    "ali.dil_ekle(\"Java\")\n"
   ]
  },
  {
   "cell_type": "code",
   "execution_count": 44,
   "metadata": {},
   "outputs": [
    {
     "data": {
      "text/plain": [
       "['Python', 'Python', 'Java']"
      ]
     },
     "execution_count": 44,
     "metadata": {},
     "output_type": "execute_result"
    }
   ],
   "source": [
    "ali.bildigi_Diller"
   ]
  },
  {
   "cell_type": "markdown",
   "metadata": {},
   "source": [
    "### Miras Yapıları"
   ]
  },
  {
   "cell_type": "code",
   "execution_count": 53,
   "metadata": {},
   "outputs": [],
   "source": [
    "class Employees():\n",
    "    def __init__(self):\n",
    "        self.FirstName = \"\"\n",
    "        self.LastName = \"\"\n",
    "        self.Address = \"\"\n",
    "\n",
    "class WebDeveloper(Employees): # Employees sınıfından miras alarak employees sınıfının özelliklerini de kullanmamızı sağlar\n",
    "    def __init__(self):\n",
    "        super().__init__()\n",
    "        self.Programming = \"\"\n",
    "\n",
    "a = WebDeveloper()\n",
    "a.FirstName # address aslında employees sınıfına ait bir özellik ancak kalıtım aldığımız için web developer sınıfında da kullanabiliyoruz\n",
    "\n",
    "class Finance(Employees):\n",
    "    def __init__(self):\n",
    "        super().__init__()\n",
    "        self.Selling = \"\"\n",
    "\n"
   ]
  },
  {
   "cell_type": "code",
   "execution_count": null,
   "metadata": {},
   "outputs": [],
   "source": []
  }
 ],
 "metadata": {
  "kernelspec": {
   "display_name": "Python 3",
   "language": "python",
   "name": "python3"
  },
  "language_info": {
   "codemirror_mode": {
    "name": "ipython",
    "version": 3
   },
   "file_extension": ".py",
   "mimetype": "text/x-python",
   "name": "python",
   "nbconvert_exporter": "python",
   "pygments_lexer": "ipython3",
   "version": "3.11.9"
  }
 },
 "nbformat": 4,
 "nbformat_minor": 2
}
