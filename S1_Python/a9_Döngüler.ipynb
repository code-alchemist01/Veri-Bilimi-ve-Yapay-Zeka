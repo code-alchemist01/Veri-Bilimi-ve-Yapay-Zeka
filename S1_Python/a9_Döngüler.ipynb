{
 "cells": [
  {
   "cell_type": "markdown",
   "metadata": {},
   "source": [
    "# Döngüler"
   ]
  },
  {
   "cell_type": "markdown",
   "metadata": {},
   "source": [
    "### For Döngüsü"
   ]
  },
  {
   "cell_type": "code",
   "execution_count": 1,
   "metadata": {},
   "outputs": [
    {
     "name": "stdout",
     "output_type": "stream",
     "text": [
      "kutay\n",
      "aslı\n",
      "burak\n",
      "ali\n",
      "mehmet\n"
     ]
    }
   ],
   "source": [
    "ogrenci = [\"kutay\",\"aslı\",\"burak\",\"ali\",\"mehmet\"]\n",
    "for i in ogrenci:\n",
    "    print(i)"
   ]
  },
  {
   "cell_type": "code",
   "execution_count": 7,
   "metadata": {},
   "outputs": [
    {
     "name": "stdout",
     "output_type": "stream",
     "text": [
      "2000\n",
      "4000\n",
      "6000\n",
      "8000\n",
      "10000\n"
     ]
    }
   ],
   "source": [
    "maaslar = [1000,2000,3000,4000,5000]\n",
    "for i in maaslar:\n",
    "    print(i*2)"
   ]
  },
  {
   "cell_type": "code",
   "execution_count": 8,
   "metadata": {},
   "outputs": [
    {
     "name": "stdout",
     "output_type": "stream",
     "text": [
      "1000000\n",
      "4000000\n",
      "9000000\n",
      "16000000\n",
      "25000000\n"
     ]
    }
   ],
   "source": [
    "def kare_al(x):\n",
    "    print(x**2)\n",
    "\n",
    "maaslar = [1000,2000,3000,4000,5000]\n",
    "\n",
    "for i in maaslar:\n",
    "    kare_al(i)"
   ]
  },
  {
   "cell_type": "code",
   "execution_count": 13,
   "metadata": {},
   "outputs": [
    {
     "name": "stdout",
     "output_type": "stream",
     "text": [
      "1200.0\n",
      "2400.0\n",
      "3600.0\n",
      "4800.0\n",
      "6000.0\n"
     ]
    }
   ],
   "source": [
    "def zam_yap(a,oran):\n",
    "    zam = a = a + (a * oran)/100\n",
    "    print(zam)\n",
    "\n",
    "maaslar = [1000,2000,3000,4000,5000]\n",
    "\n",
    "for maas in maaslar:\n",
    "    zam_yap(maas,20)"
   ]
  },
  {
   "cell_type": "code",
   "execution_count": 17,
   "metadata": {},
   "outputs": [
    {
     "name": "stdout",
     "output_type": "stream",
     "text": [
      "% 20 zam yapıldı yeni maaşınız : 1200.0\n",
      "% 20 zam yapıldı yeni maaşınız : 2400.0\n",
      "% 10 zam yapıldı yeni maaşınız : 3300.0\n",
      "% 10 zam yapıldı yeni maaşınız : 4400.0\n",
      "% 10 zam yapıldı yeni maaşınız : 5500.0\n"
     ]
    }
   ],
   "source": [
    "def zam_yap(a):\n",
    "    if(a < 3000):\n",
    "        zam = a = a + (a * 20)/100\n",
    "        print(\"% 20 zam yapıldı yeni maaşınız : \" + str(zam))\n",
    "\n",
    "    else:\n",
    "        zam = a = a + (a * 10)/100\n",
    "        print(\"% 10 zam yapıldı yeni maaşınız : \" + str(zam))\n",
    "\n",
    "        \n",
    "\n",
    "maaslar = [1000,2000,3000,4000,5000]\n",
    "\n",
    "for maas in maaslar:\n",
    "    zam_yap(maas)"
   ]
  },
  {
   "cell_type": "code",
   "execution_count": 20,
   "metadata": {},
   "outputs": [
    {
     "name": "stdout",
     "output_type": "stream",
     "text": [
      "1000\n",
      "2000\n",
      "3000 tl den yukarısına gerek yok\n"
     ]
    }
   ],
   "source": [
    "maaslar = [1000,2000,3000,4000,5000]\n",
    "\n",
    "for i in maaslar:\n",
    "    if i == 3000:\n",
    "        print(\"3000 tl den yukarısına gerek yok\")\n",
    "        break # break komutu yazılmasaydı 3000 den sonrasını da yazdırırdı\n",
    "    else:\n",
    "        print(i)\n",
    "    "
   ]
  },
  {
   "cell_type": "code",
   "execution_count": 21,
   "metadata": {},
   "outputs": [
    {
     "name": "stdout",
     "output_type": "stream",
     "text": [
      "1000\n",
      "2000\n",
      "3000 tl den yukarısına gerek yok\n",
      "4000\n",
      "5000\n"
     ]
    }
   ],
   "source": [
    "maaslar = [1000,2000,3000,4000,5000]\n",
    "\n",
    "for i in maaslar:\n",
    "    if i == 3000:\n",
    "        print(\"3000 tl den yukarısına gerek yok\")\n",
    "        continue \n",
    "    else:\n",
    "        print(i)\n",
    "    "
   ]
  },
  {
   "cell_type": "markdown",
   "metadata": {},
   "source": [
    "### While Döngüsü"
   ]
  },
  {
   "cell_type": "code",
   "execution_count": 25,
   "metadata": {},
   "outputs": [
    {
     "name": "stdout",
     "output_type": "stream",
     "text": [
      "1\n",
      "2\n",
      "3\n",
      "4\n",
      "5\n",
      "6\n",
      "7\n",
      "8\n",
      "9\n"
     ]
    }
   ],
   "source": [
    "i = 1\n",
    "\n",
    "while i < 10:\n",
    "    print(i)\n",
    "    i += 1"
   ]
  },
  {
   "cell_type": "code",
   "execution_count": null,
   "metadata": {},
   "outputs": [],
   "source": []
  }
 ],
 "metadata": {
  "kernelspec": {
   "display_name": "Python 3",
   "language": "python",
   "name": "python3"
  },
  "language_info": {
   "codemirror_mode": {
    "name": "ipython",
    "version": 3
   },
   "file_extension": ".py",
   "mimetype": "text/x-python",
   "name": "python",
   "nbconvert_exporter": "python",
   "pygments_lexer": "ipython3",
   "version": "3.11.9"
  }
 },
 "nbformat": 4,
 "nbformat_minor": 2
}
