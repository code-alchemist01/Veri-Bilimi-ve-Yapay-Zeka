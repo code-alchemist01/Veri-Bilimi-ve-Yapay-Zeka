{
 "cells": [
  {
   "cell_type": "markdown",
   "metadata": {},
   "source": [
    "# Koşullar - İf Else"
   ]
  },
  {
   "cell_type": "code",
   "execution_count": 2,
   "metadata": {},
   "outputs": [
    {
     "data": {
      "text/plain": [
       "True"
      ]
     },
     "execution_count": 2,
     "metadata": {},
     "output_type": "execute_result"
    }
   ],
   "source": [
    "a = 10\n",
    "a == 10 # eşit mi diye sorar"
   ]
  },
  {
   "cell_type": "code",
   "execution_count": 3,
   "metadata": {},
   "outputs": [
    {
     "name": "stdout",
     "output_type": "stream",
     "text": [
      "oy kullanamazsın\n"
     ]
    }
   ],
   "source": [
    "yas = 10\n",
    "\n",
    "if(yas < 18):\n",
    "    print(\"oy kullanamazsın\")\n",
    "\n",
    "else:\n",
    "    print(\"Oy kullanabilirsin\")"
   ]
  },
  {
   "cell_type": "code",
   "execution_count": 4,
   "metadata": {},
   "outputs": [
    {
     "name": "stdout",
     "output_type": "stream",
     "text": [
      "Oy kullanabilirsin\n"
     ]
    }
   ],
   "source": [
    "yas = 18\n",
    "\n",
    "if(yas < 18):\n",
    "    print(\"oy kullanamazsın\")\n",
    "\n",
    "else:\n",
    "    print(\"Oy kullanabilirsin\")"
   ]
  },
  {
   "cell_type": "code",
   "execution_count": 6,
   "metadata": {},
   "outputs": [
    {
     "name": "stdout",
     "output_type": "stream",
     "text": [
      "Sınırdan geçtin\n"
     ]
    }
   ],
   "source": [
    "a = 85\n",
    "\n",
    "if(a == 100):\n",
    "    print(\"Mükemmel sonuç\")\n",
    "\n",
    "elif(a > 50):\n",
    "    print(\"Sınırdan geçtin\")\n",
    "else:\n",
    "    print(\"Kaldın\")"
   ]
  },
  {
   "cell_type": "code",
   "execution_count": 8,
   "metadata": {},
   "outputs": [
    {
     "name": "stdout",
     "output_type": "stream",
     "text": [
      "Oy kullanabilirsin\n"
     ]
    }
   ],
   "source": [
    "\n",
    "yas = int(input(\"Lütfen yaşınızı girin: \"))\n",
    "\n",
    "if(yas < 18):\n",
    "    print(\"oy kullanamazsın\")\n",
    "\n",
    "else:\n",
    "    print(\"Oy kullanabilirsin\")"
   ]
  }
 ],
 "metadata": {
  "kernelspec": {
   "display_name": "Python 3",
   "language": "python",
   "name": "python3"
  },
  "language_info": {
   "codemirror_mode": {
    "name": "ipython",
    "version": 3
   },
   "file_extension": ".py",
   "mimetype": "text/x-python",
   "name": "python",
   "nbconvert_exporter": "python",
   "pygments_lexer": "ipython3",
   "version": "3.11.9"
  }
 },
 "nbformat": 4,
 "nbformat_minor": 2
}
