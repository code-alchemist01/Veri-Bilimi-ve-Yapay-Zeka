{
 "cells": [
  {
   "cell_type": "markdown",
   "metadata": {},
   "source": [
    "# Fonksiyonel Programlama"
   ]
  },
  {
   "cell_type": "code",
   "execution_count": 15,
   "metadata": {},
   "outputs": [
    {
     "data": {
      "text/plain": [
       "15"
      ]
     },
     "execution_count": 15,
     "metadata": {},
     "output_type": "execute_result"
    }
   ],
   "source": [
    "# Yan etkisiz fonksiyonlar\n",
    "\n",
    "a = 9 # yan etki fonksiyonun dışardaki bir nesneden etkilenmesi durumudur\n",
    "\n",
    "def impure_sum(b): # yan etkili\n",
    "    return a + b\n",
    "\n",
    "def pure_sum(b,c): # yan etkisiz\n",
    "    return c + b\n",
    "\n",
    "impure_sum(6)\n",
    "\n"
   ]
  },
  {
   "cell_type": "code",
   "execution_count": 16,
   "metadata": {},
   "outputs": [
    {
     "data": {
      "text/plain": [
       "7"
      ]
     },
     "execution_count": 16,
     "metadata": {},
     "output_type": "execute_result"
    }
   ],
   "source": [
    "pure_sum(3,4)"
   ]
  },
  {
   "cell_type": "code",
   "execution_count": 62,
   "metadata": {},
   "outputs": [
    {
     "name": "stdout",
     "output_type": "stream",
     "text": [
      "<_io.TextIOWrapper name='C:\\\\Users\\\\Burak\\\\Desktop\\\\VeriBilimiVeYapayZeka\\\\Python\\\\deneme.txt' mode='r' encoding='cp1254'>\n"
     ]
    }
   ],
   "source": [
    "# deneme txt için yan etkisiz fonk örneği\n",
    "\n",
    "class LineCounter():\n",
    "    def __init__(self,filename):\n",
    "        self.file = open(filename, \"r\")\n",
    "        self.lines = []\n",
    "\n",
    "    def read(self):\n",
    "       self.lines = [line for line in self.file]\n",
    "\n",
    "    def count(self):\n",
    "       return len(self.lines)\n",
    "\n",
    "path = \"C:\\\\Users\\\\Burak\\\\Desktop\\\\VeriBilimiVeYapayZeka\\\\Python\\\\deneme.txt\"\n",
    "a = LineCounter(path)\n",
    "\n",
    "print(a.file)\n"
   ]
  },
  {
   "cell_type": "code",
   "execution_count": 63,
   "metadata": {},
   "outputs": [
    {
     "name": "stdout",
     "output_type": "stream",
     "text": [
      "[]\n"
     ]
    }
   ],
   "source": [
    "print(a.lines)"
   ]
  },
  {
   "cell_type": "code",
   "execution_count": 64,
   "metadata": {},
   "outputs": [
    {
     "name": "stdout",
     "output_type": "stream",
     "text": [
      "0\n"
     ]
    }
   ],
   "source": [
    "print(a.count())"
   ]
  },
  {
   "cell_type": "code",
   "execution_count": 65,
   "metadata": {},
   "outputs": [],
   "source": [
    "a.read()"
   ]
  },
  {
   "cell_type": "code",
   "execution_count": 66,
   "metadata": {},
   "outputs": [
    {
     "name": "stdout",
     "output_type": "stream",
     "text": [
      "['Kutayin calismasi icin bir deneme dosyasi \\n', 'kutay cok mukemmel']\n"
     ]
    }
   ],
   "source": [
    "print(a.lines)"
   ]
  },
  {
   "cell_type": "code",
   "execution_count": 67,
   "metadata": {},
   "outputs": [
    {
     "name": "stdout",
     "output_type": "stream",
     "text": [
      "2\n"
     ]
    }
   ],
   "source": [
    "print(a.count())"
   ]
  },
  {
   "cell_type": "code",
   "execution_count": 69,
   "metadata": {},
   "outputs": [
    {
     "data": {
      "text/plain": [
       "2"
      ]
     },
     "execution_count": 69,
     "metadata": {},
     "output_type": "execute_result"
    }
   ],
   "source": [
    "def read(filename):\n",
    "    with open(filename,\"r\") as f:\n",
    "        return [line for line in f]\n",
    "    \n",
    "def count(lines):\n",
    "    return len(lines)\n",
    "\n",
    "a = read(path)\n",
    "lines_count = count(a)\n",
    "lines_count"
   ]
  },
  {
   "cell_type": "markdown",
   "metadata": {},
   "source": [
    "### İsimsiz Fonksiyonlar"
   ]
  },
  {
   "cell_type": "code",
   "execution_count": 71,
   "metadata": {},
   "outputs": [
    {
     "data": {
      "text/plain": [
       "194"
      ]
     },
     "execution_count": 71,
     "metadata": {},
     "output_type": "execute_result"
    }
   ],
   "source": [
    "toplam = lambda a,b: a + b # lambda ile isim vermeden fonk oluşturabiliyoruz\n",
    "toplam(192,2)"
   ]
  },
  {
   "cell_type": "code",
   "execution_count": 72,
   "metadata": {},
   "outputs": [
    {
     "data": {
      "text/plain": [
       "[('b', 3), ('a', 8), ('d', 12), ('c', 1)]"
      ]
     },
     "execution_count": 72,
     "metadata": {},
     "output_type": "execute_result"
    }
   ],
   "source": [
    "liste = [(\"b\",3),(\"a\",8),(\"d\",12),(\"c\",1)]\n",
    "liste"
   ]
  },
  {
   "cell_type": "code",
   "execution_count": 73,
   "metadata": {},
   "outputs": [
    {
     "data": {
      "text/plain": [
       "[('c', 1), ('b', 3), ('a', 8), ('d', 12)]"
      ]
     },
     "execution_count": 73,
     "metadata": {},
     "output_type": "execute_result"
    }
   ],
   "source": [
    "sorted(liste, key= lambda x:x[1])"
   ]
  },
  {
   "cell_type": "markdown",
   "metadata": {},
   "source": [
    "### Vektörel Operayonlar"
   ]
  },
  {
   "cell_type": "code",
   "execution_count": 86,
   "metadata": {},
   "outputs": [
    {
     "name": "stdout",
     "output_type": "stream",
     "text": [
      "[2, 3, 4, 5, 4, 6, 8, 10, 6, 9, 12, 15, 8, 12, 16, 20]\n"
     ]
    }
   ],
   "source": [
    "a = [1,2,3,4]\n",
    "b = [2,3,4,5]\n",
    "\n",
    "ab = []\n",
    "\n",
    "for i in range(0,len(a)):\n",
    "    for j in range(0,len(b)):\n",
    "        ab.append(a[i] * b[j])\n",
    "\n",
    "print(ab)\n",
    "        "
   ]
  },
  {
   "cell_type": "markdown",
   "metadata": {},
   "source": [
    "### Map & Filter & Reduce"
   ]
  },
  {
   "cell_type": "code",
   "execution_count": 88,
   "metadata": {},
   "outputs": [
    {
     "name": "stdout",
     "output_type": "stream",
     "text": [
      "[1, 4, 9, 16, 25]\n"
     ]
    }
   ],
   "source": [
    "def kare(x):\n",
    "    return x * x\n",
    "\n",
    "sayilar = [1, 2, 3, 4, 5]\n",
    "kareler = list(map(kare, sayilar)) # map fonksiyonu, bir işlevi (function) bir dizi (iterable) elemanına uygular ve sonuçları döndürür.\n",
    "\n",
    "print(kareler)  "
   ]
  },
  {
   "cell_type": "code",
   "execution_count": 89,
   "metadata": {},
   "outputs": [
    {
     "name": "stdout",
     "output_type": "stream",
     "text": [
      "[2, 4]\n"
     ]
    }
   ],
   "source": [
    "def cift_mi(x):\n",
    "    return x % 2 == 0\n",
    "\n",
    "sayilar = [1, 2, 3, 4, 5]\n",
    "cift_sayilar = list(filter(cift_mi, sayilar)) # filter fonksiyonu, belirli bir koşulu sağlayan elemanları filtrelemek için kullanılır.\n",
    "\n",
    "print(cift_sayilar)  # Çıktı: [2, 4]"
   ]
  },
  {
   "cell_type": "code",
   "execution_count": 90,
   "metadata": {},
   "outputs": [
    {
     "name": "stdout",
     "output_type": "stream",
     "text": [
      "15\n"
     ]
    }
   ],
   "source": [
    "from functools import reduce\n",
    "\n",
    "# Toplama işlemi\n",
    "def topla(x, y):\n",
    "    return x + y\n",
    "\n",
    "sayilar = [1, 2, 3, 4, 5]\n",
    "toplam = reduce(topla, sayilar) # reduce fonksiyonu, bir işlevi, bir dizinin elemanları üzerinde teker teker uygulayarak tek bir değer döndürür. functools modülünden içe aktarılması gerekir.\n",
    "\n",
    "print(toplam)\n",
    "\n"
   ]
  },
  {
   "cell_type": "code",
   "execution_count": null,
   "metadata": {},
   "outputs": [],
   "source": []
  }
 ],
 "metadata": {
  "kernelspec": {
   "display_name": "Python 3",
   "language": "python",
   "name": "python3"
  },
  "language_info": {
   "codemirror_mode": {
    "name": "ipython",
    "version": 3
   },
   "file_extension": ".py",
   "mimetype": "text/x-python",
   "name": "python",
   "nbconvert_exporter": "python",
   "pygments_lexer": "ipython3",
   "version": "3.11.9"
  }
 },
 "nbformat": 4,
 "nbformat_minor": 2
}
