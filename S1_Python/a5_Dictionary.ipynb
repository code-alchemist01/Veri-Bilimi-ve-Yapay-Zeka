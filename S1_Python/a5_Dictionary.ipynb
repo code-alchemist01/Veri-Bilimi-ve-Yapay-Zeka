{
 "cells": [
  {
   "cell_type": "markdown",
   "metadata": {},
   "source": [
    "# Dictionary (Sözlük)"
   ]
  },
  {
   "cell_type": "code",
   "execution_count": 3,
   "metadata": {},
   "outputs": [
    {
     "data": {
      "text/plain": [
       "{'isim': 'Kutay', 'soyisim': 'Şahin', 'yas': 22}"
      ]
     },
     "execution_count": 3,
     "metadata": {},
     "output_type": "execute_result"
    }
   ],
   "source": [
    "sozluk = {\"isim\" : \"Kutay\",\n",
    "          \"soyisim\" : \"Şahin\",\n",
    "          \"yas\" : 22}\n",
    "\n",
    "sozluk\n"
   ]
  },
  {
   "cell_type": "code",
   "execution_count": 4,
   "metadata": {},
   "outputs": [
    {
     "data": {
      "text/plain": [
       "3"
      ]
     },
     "execution_count": 4,
     "metadata": {},
     "output_type": "execute_result"
    }
   ],
   "source": [
    "sozluk = {\"isim\" : \"Kutay\",\n",
    "          \"soyisim\" : \"Şahin\",\n",
    "          \"yas\" : 22}\n",
    "len(sozluk)"
   ]
  },
  {
   "cell_type": "markdown",
   "metadata": {},
   "source": [
    "### Eleman seçme işlemleri"
   ]
  },
  {
   "cell_type": "code",
   "execution_count": 8,
   "metadata": {},
   "outputs": [
    {
     "data": {
      "text/plain": [
       "'Kutay'"
      ]
     },
     "execution_count": 8,
     "metadata": {},
     "output_type": "execute_result"
    }
   ],
   "source": [
    "sozluk = {\"isim\" : \"Kutay\",\n",
    "          \"soyisim\" : \"Şahin\",\n",
    "          \"yas\" : 22}\n",
    "\n",
    "sozluk[\"isim\"] # belirttiğim key değerini girip value sunu çağırabiliyorum\n",
    "\n"
   ]
  },
  {
   "cell_type": "code",
   "execution_count": 9,
   "metadata": {},
   "outputs": [
    {
     "data": {
      "text/plain": [
       "22"
      ]
     },
     "execution_count": 9,
     "metadata": {},
     "output_type": "execute_result"
    }
   ],
   "source": [
    "sozluk = {\"isim\" : \"Kutay\",\n",
    "          \"soyisim\" : \"Şahin\",\n",
    "          \"yas\" : 22}\n",
    "\n",
    "\n",
    "sozluk[\"yas\"]"
   ]
  },
  {
   "cell_type": "markdown",
   "metadata": {},
   "source": [
    "### Eleman ekleme & değiştirme"
   ]
  },
  {
   "cell_type": "code",
   "execution_count": 11,
   "metadata": {},
   "outputs": [
    {
     "data": {
      "text/plain": [
       "{'isim': 'Kutay', 'soyisim': 'Şahin', 'yas': 22, 'TC': '12827266524'}"
      ]
     },
     "execution_count": 11,
     "metadata": {},
     "output_type": "execute_result"
    }
   ],
   "source": [
    "sozluk = {\"isim\" : \"Kutay\",\n",
    "          \"soyisim\" : \"Şahin\",\n",
    "          \"yas\" : 22}\n",
    "\n",
    "sozluk[\"TC\"] = \"12827266524\"\n",
    "sozluk"
   ]
  },
  {
   "cell_type": "code",
   "execution_count": 12,
   "metadata": {},
   "outputs": [
    {
     "data": {
      "text/plain": [
       "{'isim': 'aslı', 'soyisim': 'Şahin', 'yas': 22}"
      ]
     },
     "execution_count": 12,
     "metadata": {},
     "output_type": "execute_result"
    }
   ],
   "source": [
    "sozluk = {\"isim\" : \"Kutay\",\n",
    "          \"soyisim\" : \"Şahin\",\n",
    "          \"yas\" : 22}\n",
    "\n",
    "sozluk[\"isim\"] = \"aslı\"\n",
    "sozluk"
   ]
  },
  {
   "cell_type": "code",
   "execution_count": 13,
   "metadata": {},
   "outputs": [
    {
     "data": {
      "text/plain": [
       "{'isim': 'Kutay', 'soyisim': 'Şahin', 'yas': 22, 2: 'Selam'}"
      ]
     },
     "execution_count": 13,
     "metadata": {},
     "output_type": "execute_result"
    }
   ],
   "source": [
    "sozluk = {\"isim\" : \"Kutay\",\n",
    "          \"soyisim\" : \"Şahin\",\n",
    "          \"yas\" : 22}\n",
    "\n",
    "sozluk[2] = \"Selam\"\n",
    "sozluk"
   ]
  },
  {
   "cell_type": "code",
   "execution_count": null,
   "metadata": {},
   "outputs": [],
   "source": []
  }
 ],
 "metadata": {
  "kernelspec": {
   "display_name": "Python 3",
   "language": "python",
   "name": "python3"
  },
  "language_info": {
   "codemirror_mode": {
    "name": "ipython",
    "version": 3
   },
   "file_extension": ".py",
   "mimetype": "text/x-python",
   "name": "python",
   "nbconvert_exporter": "python",
   "pygments_lexer": "ipython3",
   "version": "3.11.9"
  }
 },
 "nbformat": 4,
 "nbformat_minor": 2
}
