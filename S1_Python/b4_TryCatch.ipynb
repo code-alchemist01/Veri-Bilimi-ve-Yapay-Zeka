{
 "cells": [
  {
   "cell_type": "markdown",
   "metadata": {},
   "source": [
    "# Try - Catch - Throw"
   ]
  },
  {
   "cell_type": "markdown",
   "metadata": {},
   "source": [
    "Python'da hata yönetimi için try, except (catch), ve raise (throw) kullanılır. Bu yapılar, programınızın beklenmeyen hatalarla karşılaştığında düzgün bir şekilde yanıt vermesini sağlar.\n",
    "\n",
    "Kullanım Şekilleri\n",
    "> try ve except (catch): Belirli bir kod bloğunda hata olma olasılığına karşı önlem almak için kullanılır.\n",
    "\n",
    "> raise (throw): Hata fırlatmak için kullanılır; genellikle özel hata durumlarını yönetmek için kullanılır."
   ]
  },
  {
   "cell_type": "code",
   "execution_count": 1,
   "metadata": {},
   "outputs": [
    {
     "name": "stdout",
     "output_type": "stream",
     "text": [
      "5.0\n",
      "Hata: Sıfıra bölme hatası!\n",
      "Hata: Lütfen sayılar girin!\n"
     ]
    }
   ],
   "source": [
    "def bolme(a, b):\n",
    "    try:\n",
    "        sonuc = a / b\n",
    "    except ZeroDivisionError:  # Sıfıra bölme hatasını yakala\n",
    "        return \"Hata: Sıfıra bölme hatası!\"\n",
    "    except TypeError:  # Yanlış tür hatasını yakala\n",
    "        return \"Hata: Lütfen sayılar girin!\"\n",
    "    else:\n",
    "        return sonuc  # Hata yoksa sonucu döndür\n",
    "\n",
    "print(bolme(10, 2))  # Çıktı: 5.0\n",
    "print(bolme(10, 0))  # Çıktı: Hata: Sıfıra bölme hatası!\n",
    "print(bolme(10, 'a'))  # Çıktı: Hata: Lütfen sayılar girin!"
   ]
  },
  {
   "cell_type": "code",
   "execution_count": 2,
   "metadata": {},
   "outputs": [
    {
     "name": "stdout",
     "output_type": "stream",
     "text": [
      "Hata: Negatif sayı giremezsiniz!\n"
     ]
    }
   ],
   "source": [
    "def kontrol_et(sayi):\n",
    "    if sayi < 0:\n",
    "        raise ValueError(\"Hata: Negatif sayı giremezsiniz!\")  # Hata fırlat\n",
    "    return sayi\n",
    "\n",
    "try:\n",
    "    kontrol_et(-5)\n",
    "except ValueError as e:  # Hata yakala\n",
    "    print(e)  # Çıktı: Hata: Negatif sayı giremezsiniz!"
   ]
  },
  {
   "cell_type": "code",
   "execution_count": null,
   "metadata": {},
   "outputs": [],
   "source": []
  }
 ],
 "metadata": {
  "kernelspec": {
   "display_name": "Python 3",
   "language": "python",
   "name": "python3"
  },
  "language_info": {
   "codemirror_mode": {
    "name": "ipython",
    "version": 3
   },
   "file_extension": ".py",
   "mimetype": "text/x-python",
   "name": "python",
   "nbconvert_exporter": "python",
   "pygments_lexer": "ipython3",
   "version": "3.11.9"
  }
 },
 "nbformat": 4,
 "nbformat_minor": 2
}
